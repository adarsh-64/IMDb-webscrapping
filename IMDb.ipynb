{
  "nbformat": 4,
  "nbformat_minor": 0,
  "metadata": {
    "colab": {
      "name": "IMDb.ipynb",
      "provenance": [],
      "collapsed_sections": [],
      "authorship_tag": "ABX9TyPghktSTVzyVUf3SO+5e7zj",
      "include_colab_link": true
    },
    "kernelspec": {
      "name": "python3",
      "display_name": "Python 3"
    },
    "language_info": {
      "name": "python"
    }
  },
  "cells": [
    {
      "cell_type": "markdown",
      "metadata": {
        "id": "view-in-github",
        "colab_type": "text"
      },
      "source": [
        "<a href=\"https://colab.research.google.com/github/adarsh-64/IMDb-webscrapping/blob/main/IMDb.ipynb\" target=\"_parent\"><img src=\"https://colab.research.google.com/assets/colab-badge.svg\" alt=\"Open In Colab\"/></a>"
      ]
    },
    {
      "cell_type": "code",
      "metadata": {
        "id": "RjpFtQ7-sOUL"
      },
      "source": [
        "#importing all the packages\n",
        "import requests\n",
        "import time\n",
        "from bs4 import BeautifulSoup\n",
        "import pandas as pd\n",
        "from IPython.display import clear_output"
      ],
      "execution_count": 1,
      "outputs": []
    },
    {
      "cell_type": "code",
      "metadata": {
        "id": "VEbbGVCVsUZM"
      },
      "source": [
        "base_url = 'https://www.imdb.com/search/title/?release_date=2021-01-01,2021-12-31&sort=num_votes,desc&start='"
      ],
      "execution_count": 3,
      "outputs": []
    },
    {
      "cell_type": "code",
      "metadata": {
        "id": "X4VtJD98sUcs",
        "colab": {
          "base_uri": "https://localhost:8080/"
        },
        "outputId": "95ca39e6-34ad-49a0-ba4c-14dc3d2ffb84"
      },
      "source": [
        "movie_name=[]     #Empty lists for storing the data from IMDb website\n",
        "release_year=[]\n",
        "certificate=[]\n",
        "duration=[]\n",
        "genre=[]\n",
        "star=[]\n",
        "metascore=[]\n",
        "votes=[]\n",
        "\n",
        "for i in range(1,1000,50):\n",
        "\n",
        "  print(f'Scrapping value from {i}th page')   #this is used to identify if any error occur at any particular page\n",
        "  clear_output(wait=True)\n",
        "\n",
        "  time.sleep(2)\n",
        "\n",
        "  url=base_url+str(i)+'&ref_=adv_nxt'          #identifying the pattern of the url\n",
        "  req=requests.get(url)                        #sending request\n",
        "  soup=BeautifulSoup(req.text,'html')          #creating soup object\n",
        "\n",
        "  my_container=soup.find_all('div',class_='lister-item-content')     #soup object having the details of all 50 movies\n",
        "\n",
        "  for i in my_container:\n",
        "\n",
        "    #movie name\n",
        "    if soup.find('h3',attrs={'class':'lister-item-header'}) is not None:\n",
        "      movie_name.append(i.a.text)\n",
        "    else:\n",
        "      movie_name.append('none')\n",
        "\n",
        "    #release year\n",
        "    if i.find('span',attrs={'class':'lister-item-year text-muted unbold'}) is not None:\n",
        "      header=i.find('h3',class_='lister-item-header')\n",
        "      year=header.find('span',class_='lister-item-year text-muted unbold').text.replace('(','').replace(')','')\n",
        "      release_year.append(year)\n",
        "    else:\n",
        "      release_year.append('nil')  \n",
        "\n",
        "    #certificate\n",
        "    if i.find('span',attrs={'class':'certificate'}) is not None:\n",
        "      cert=i.find('span',attrs={'class':'certificate'})\n",
        "      certificate.append(cert.text)\n",
        "    else:\n",
        "      certificate.append('not rated')\n",
        "\n",
        "    #movie duration \n",
        "    if i.find('span',attrs={'class':'runtime'}) is not None:\n",
        "      dur=i.find('span',attrs={'class':'runtime'})\n",
        "      duration.append(dur.text)\n",
        "    else:\n",
        "      duration.append('nil')\n",
        "\n",
        "    #genre\n",
        "    if i.find('span',attrs={'class':'genre'}) is not None:\n",
        "      gen=i.find('span',attrs={'class':'genre'})\n",
        "      genre.append(gen.text.strip())\n",
        "    else:\n",
        "      genre.append('nil')\n",
        "\n",
        "    #star rating\n",
        "    if i.find('div',attrs={'class':'inline-block ratings-imdb-rating'}) is not None:\n",
        "      starr=i.find('div',attrs={'class':'inline-block ratings-imdb-rating'})\n",
        "      star.append(starr.text.strip())\n",
        "    else:\n",
        "      star.append('nil')\n",
        "\n",
        "    #metascore\n",
        "    if i.find('span',attrs={'class':'metascore'}) is not None:\n",
        "      meta=i.find('span',attrs={'class':'metascore'})\n",
        "      metascore.append(meta.text)\n",
        "    else:\n",
        "      metascore.append('nil')\n",
        "\n",
        "    #votes\n",
        "    if i.find('p',attrs={'class':'sort-num_votes-visible'}) is not None:\n",
        "      vot=i.find('p',attrs={'class':'sort-num_votes-visible'})\n",
        "      votes.append(vot.text.split(':')[1].strip())\n",
        "    else:\n",
        "      votes.append('none')"
      ],
      "execution_count": 4,
      "outputs": [
        {
          "output_type": "stream",
          "text": [
            "Scrapping value from 951th page\n"
          ],
          "name": "stdout"
        }
      ]
    },
    {
      "cell_type": "code",
      "metadata": {
        "colab": {
          "base_uri": "https://localhost:8080/"
        },
        "id": "eW0Yf8hysUec",
        "outputId": "ad644d33-4f15-4a32-98a6-8cf240435120"
      },
      "source": [
        "len(movie_name),len(release_year),len(certificate),len(duration),len(genre),len(star),len(metascore),len(votes)"
      ],
      "execution_count": 7,
      "outputs": [
        {
          "output_type": "execute_result",
          "data": {
            "text/plain": [
              "(1000, 1000, 1000, 1000, 1000, 1000, 1000, 1000)"
            ]
          },
          "metadata": {
            "tags": []
          },
          "execution_count": 7
        }
      ]
    },
    {
      "cell_type": "code",
      "metadata": {
        "id": "6HDDcsLBsUgW",
        "colab": {
          "base_uri": "https://localhost:8080/",
          "height": 424
        },
        "outputId": "16900100-cc5b-4776-8d20-46865e47de1f"
      },
      "source": [
        "#converting to dataframe\n",
        "data=pd.DataFrame({'movie_name':movie_name,'release_year':release_year,'certificate':certificate,'duration':duration,'genre':genre,'star':star,'metascore':metascore,'votes':votes})\n",
        "data"
      ],
      "execution_count": 9,
      "outputs": [
        {
          "output_type": "execute_result",
          "data": {
            "text/html": [
              "<div>\n",
              "<style scoped>\n",
              "    .dataframe tbody tr th:only-of-type {\n",
              "        vertical-align: middle;\n",
              "    }\n",
              "\n",
              "    .dataframe tbody tr th {\n",
              "        vertical-align: top;\n",
              "    }\n",
              "\n",
              "    .dataframe thead th {\n",
              "        text-align: right;\n",
              "    }\n",
              "</style>\n",
              "<table border=\"1\" class=\"dataframe\">\n",
              "  <thead>\n",
              "    <tr style=\"text-align: right;\">\n",
              "      <th></th>\n",
              "      <th>movie_name</th>\n",
              "      <th>release_year</th>\n",
              "      <th>certificate</th>\n",
              "      <th>duration</th>\n",
              "      <th>genre</th>\n",
              "      <th>star</th>\n",
              "      <th>metascore</th>\n",
              "      <th>votes</th>\n",
              "    </tr>\n",
              "  </thead>\n",
              "  <tbody>\n",
              "    <tr>\n",
              "      <th>0</th>\n",
              "      <td>Zack Snyder's Justice League</td>\n",
              "      <td>2021</td>\n",
              "      <td>18</td>\n",
              "      <td>242 min</td>\n",
              "      <td>Action, Adventure, Fantasy</td>\n",
              "      <td>8.1</td>\n",
              "      <td>54</td>\n",
              "      <td>307,081</td>\n",
              "    </tr>\n",
              "    <tr>\n",
              "      <th>1</th>\n",
              "      <td>Aspirants</td>\n",
              "      <td>2021–</td>\n",
              "      <td>not rated</td>\n",
              "      <td>45 min</td>\n",
              "      <td>Drama</td>\n",
              "      <td>9.7</td>\n",
              "      <td>nil</td>\n",
              "      <td>272,234</td>\n",
              "    </tr>\n",
              "    <tr>\n",
              "      <th>2</th>\n",
              "      <td>WandaVision</td>\n",
              "      <td>2021</td>\n",
              "      <td>12</td>\n",
              "      <td>350 min</td>\n",
              "      <td>Action, Comedy, Drama</td>\n",
              "      <td>8.1</td>\n",
              "      <td>nil</td>\n",
              "      <td>186,720</td>\n",
              "    </tr>\n",
              "    <tr>\n",
              "      <th>3</th>\n",
              "      <td>Radhe</td>\n",
              "      <td>2021</td>\n",
              "      <td>not rated</td>\n",
              "      <td>135 min</td>\n",
              "      <td>Action, Crime, Thriller</td>\n",
              "      <td>1.8</td>\n",
              "      <td>nil</td>\n",
              "      <td>163,592</td>\n",
              "    </tr>\n",
              "    <tr>\n",
              "      <th>4</th>\n",
              "      <td>Godzilla vs. Kong</td>\n",
              "      <td>2021</td>\n",
              "      <td>12</td>\n",
              "      <td>113 min</td>\n",
              "      <td>Action, Sci-Fi, Thriller</td>\n",
              "      <td>6.4</td>\n",
              "      <td>59</td>\n",
              "      <td>146,473</td>\n",
              "    </tr>\n",
              "    <tr>\n",
              "      <th>...</th>\n",
              "      <td>...</td>\n",
              "      <td>...</td>\n",
              "      <td>...</td>\n",
              "      <td>...</td>\n",
              "      <td>...</td>\n",
              "      <td>...</td>\n",
              "      <td>...</td>\n",
              "      <td>...</td>\n",
              "    </tr>\n",
              "    <tr>\n",
              "      <th>995</th>\n",
              "      <td>Dead Places</td>\n",
              "      <td>2021–</td>\n",
              "      <td>not rated</td>\n",
              "      <td>45 min</td>\n",
              "      <td>Adventure, Horror, Thriller</td>\n",
              "      <td>6.8</td>\n",
              "      <td>nil</td>\n",
              "      <td>713</td>\n",
              "    </tr>\n",
              "    <tr>\n",
              "      <th>996</th>\n",
              "      <td>A Discovery of Witches</td>\n",
              "      <td>2018–</td>\n",
              "      <td>12</td>\n",
              "      <td>nil</td>\n",
              "      <td>Drama, Fantasy, Romance</td>\n",
              "      <td>8.0</td>\n",
              "      <td>nil</td>\n",
              "      <td>713</td>\n",
              "    </tr>\n",
              "    <tr>\n",
              "      <th>997</th>\n",
              "      <td>For All Mankind</td>\n",
              "      <td>2019–</td>\n",
              "      <td>not rated</td>\n",
              "      <td>56 min</td>\n",
              "      <td>Drama, Sci-Fi</td>\n",
              "      <td>8.1</td>\n",
              "      <td>nil</td>\n",
              "      <td>712</td>\n",
              "    </tr>\n",
              "    <tr>\n",
              "      <th>998</th>\n",
              "      <td>This Is Us</td>\n",
              "      <td>2016–2022</td>\n",
              "      <td>9</td>\n",
              "      <td>43 min</td>\n",
              "      <td>Comedy, Drama, Romance</td>\n",
              "      <td>8.5</td>\n",
              "      <td>nil</td>\n",
              "      <td>710</td>\n",
              "    </tr>\n",
              "    <tr>\n",
              "      <th>999</th>\n",
              "      <td>Boruto: Naruto Next Generations</td>\n",
              "      <td>2017–</td>\n",
              "      <td>not rated</td>\n",
              "      <td>24 min</td>\n",
              "      <td>Animation, Action, Adventure</td>\n",
              "      <td>9.4</td>\n",
              "      <td>nil</td>\n",
              "      <td>710</td>\n",
              "    </tr>\n",
              "  </tbody>\n",
              "</table>\n",
              "<p>1000 rows × 8 columns</p>\n",
              "</div>"
            ],
            "text/plain": [
              "                           movie_name release_year  ...   metascore    votes\n",
              "0        Zack Snyder's Justice League         2021  ...  54          307,081\n",
              "1                           Aspirants       2021–   ...         nil  272,234\n",
              "2                         WandaVision         2021  ...         nil  186,720\n",
              "3                               Radhe         2021  ...         nil  163,592\n",
              "4                   Godzilla vs. Kong         2021  ...  59          146,473\n",
              "..                                ...          ...  ...         ...      ...\n",
              "995                       Dead Places       2021–   ...         nil      713\n",
              "996            A Discovery of Witches       2018–   ...         nil      713\n",
              "997                   For All Mankind       2019–   ...         nil      712\n",
              "998                        This Is Us    2016–2022  ...         nil      710\n",
              "999   Boruto: Naruto Next Generations       2017–   ...         nil      710\n",
              "\n",
              "[1000 rows x 8 columns]"
            ]
          },
          "metadata": {
            "tags": []
          },
          "execution_count": 9
        }
      ]
    },
    {
      "cell_type": "code",
      "metadata": {
        "id": "kOyy5ok9sUjL"
      },
      "source": [
        "#converting dataframe to csv file\n",
        "data.to_csv('IMDb_data.csv',index=False)"
      ],
      "execution_count": 10,
      "outputs": []
    },
    {
      "cell_type": "code",
      "metadata": {
        "id": "9yGwaMrasUl8"
      },
      "source": [
        ""
      ],
      "execution_count": null,
      "outputs": []
    },
    {
      "cell_type": "code",
      "metadata": {
        "id": "wmwwWA2bsUoS"
      },
      "source": [
        ""
      ],
      "execution_count": null,
      "outputs": []
    },
    {
      "cell_type": "code",
      "metadata": {
        "id": "zDaDd2JYsUqZ"
      },
      "source": [
        ""
      ],
      "execution_count": null,
      "outputs": []
    },
    {
      "cell_type": "code",
      "metadata": {
        "id": "I1fExVVwsUtU"
      },
      "source": [
        ""
      ],
      "execution_count": null,
      "outputs": []
    },
    {
      "cell_type": "code",
      "metadata": {
        "id": "E89Bt7hTsUvh"
      },
      "source": [
        ""
      ],
      "execution_count": null,
      "outputs": []
    },
    {
      "cell_type": "code",
      "metadata": {
        "id": "2iwmVePVsUyF"
      },
      "source": [
        ""
      ],
      "execution_count": null,
      "outputs": []
    },
    {
      "cell_type": "code",
      "metadata": {
        "id": "DRwuiOSxsU0q"
      },
      "source": [
        ""
      ],
      "execution_count": null,
      "outputs": []
    },
    {
      "cell_type": "code",
      "metadata": {
        "id": "lO0TpdK8sU2-"
      },
      "source": [
        ""
      ],
      "execution_count": null,
      "outputs": []
    },
    {
      "cell_type": "code",
      "metadata": {
        "id": "GU5CWgMWsU5c"
      },
      "source": [
        ""
      ],
      "execution_count": null,
      "outputs": []
    },
    {
      "cell_type": "code",
      "metadata": {
        "id": "NXKqXOPusU75"
      },
      "source": [
        ""
      ],
      "execution_count": null,
      "outputs": []
    },
    {
      "cell_type": "code",
      "metadata": {
        "id": "tHv5hX5EsU-O"
      },
      "source": [
        ""
      ],
      "execution_count": null,
      "outputs": []
    },
    {
      "cell_type": "code",
      "metadata": {
        "id": "uZxSOEgQsVAI"
      },
      "source": [
        ""
      ],
      "execution_count": null,
      "outputs": []
    },
    {
      "cell_type": "code",
      "metadata": {
        "id": "00Pp_A9tsVDm"
      },
      "source": [
        ""
      ],
      "execution_count": null,
      "outputs": []
    }
  ]
}